{
 "cells": [
  {
   "cell_type": "code",
   "execution_count": null,
   "id": "b454dd84-3550-4e56-a1a1-3517c2315cb2",
   "metadata": {},
   "outputs": [],
   "source": [
    "# imports\n",
    "import pandas as pd\n",
    "import numpy as np\n",
    "from scipy.stats import binom"
   ]
  },
  {
   "cell_type": "code",
   "execution_count": null,
   "id": "f28dfa06-2c39-44e2-873d-f8a0080bb674",
   "metadata": {},
   "outputs": [],
   "source": [
    "# helpers\n",
    "remove_nan = lambda df, i: list(map(lambda x: int(float(x)), df.iloc[i][df.iloc[i].notnull()].tolist())) # the pandas data frame is a parallogram with nan values as padding \n",
    "out_string = lambda p_val, alpha, thresh: f\"Significant: {'yes' if p_val < alpha else 'no'}\\np-value:     {round(p_val, 5)}\\nThreshhold:  {thresh}\\n\""
   ]
  },
  {
   "cell_type": "code",
   "execution_count": null,
   "id": "e8326600-6d57-45af-95c5-19603ff92104",
   "metadata": {},
   "outputs": [],
   "source": [
    "df = pd.read_csv('data.csv')        # read constructed data.csv file\n",
    "df = df[df.columns[1:16]][:150*7]   # limit to treatment and date columns\n",
    "df = df[(df != 'forbidden').all(1)] # remove treatment samples that broke due to lacking upvote rights\n",
    "df = df[df['treatment'] != -1]      # remove treatment samples that were deleted before we could upvote"
   ]
  },
  {
   "cell_type": "code",
   "execution_count": null,
   "id": "c5b53c07-2dea-45f6-978b-5a0487fea5e4",
   "metadata": {},
   "outputs": [],
   "source": [
    "M = np.array([remove_nan(df, i) for i in range(df.shape[0])]) # convert pandas data frame to numpy array\n",
    "T = (M[M[:, 0] == 1] - 2)[:, 1:]                              # treatment dataframe with our's and author's upvote REMOVED\n",
    "C = M[M[:, 0] == 0][:, 1:] - 1                                # control data frame with author's upvote removed\n",
    "# np.random.seed(42)                                            # ensure same 500 samples are selected on every run\n",
    "# C = C[np.random.choice(C.shape[0], T.shape[0], replace=0), :] # balance C and T by selecting 500 random samples from C"
   ]
  },
  {
   "cell_type": "code",
   "execution_count": null,
   "id": "88bf663c-688c-452d-bba6-11eb96416d5f",
   "metadata": {},
   "outputs": [],
   "source": [
    "threshs = [10 ** i for i in range(4)]  # our hypothesis looks at the four different orders of magnitude\n",
    "# days    = 6                          # test on multiple days\n",
    "n       = T.shape[0]                   # number of samples\n",
    "alpha   = 0.05 / (len(threshs)) # significance level with bernferoni correction"
   ]
  },
  {
   "cell_type": "code",
   "execution_count": null,
   "id": "dee713ba-02d0-4466-a468-9548f605a130",
   "metadata": {},
   "outputs": [],
   "source": [
    "# for i in range(days):                       # for all the days after the first day (RESULT TRUE FOR ALL DAYS)\n",
    "for thresh in threshs:                        # for the four upvote orderes of magnitude in focus\n",
    "    r = np.sum(T[:,-1] > thresh)              # how big a fraction of samples are above the treshhold in Treatment\n",
    "    p = np.sum(C[:,-1] > thresh) / C.shape[0] # what's the probability of being above the threshhold given no treatment?\n",
    "    p_val = 1 - binom.cdf(r, n, p)            # calcaulte p-value (whether we are above thresh or not is a binary/binomial question)\n",
    "    print(out_string(p_val, alpha, thresh))   # print nice text describing result"
   ]
  },
  {
   "cell_type": "code",
   "execution_count": null,
   "id": "137c8423-7926-4fca-b0dc-f985641abc75",
   "metadata": {},
   "outputs": [],
   "source": []
  }
 ],
 "metadata": {
  "kernelspec": {
   "display_name": "Python 3 (ipykernel)",
   "language": "python",
   "name": "python3"
  },
  "language_info": {
   "codemirror_mode": {
    "name": "ipython",
    "version": 3
   },
   "file_extension": ".py",
   "mimetype": "text/x-python",
   "name": "python",
   "nbconvert_exporter": "python",
   "pygments_lexer": "ipython3",
   "version": "3.8.13"
  }
 },
 "nbformat": 4,
 "nbformat_minor": 5
}

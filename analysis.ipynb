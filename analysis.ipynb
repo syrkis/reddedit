{
 "cells": [
  {
   "cell_type": "code",
   "execution_count": 1,
   "id": "b454dd84-3550-4e56-a1a1-3517c2315cb2",
   "metadata": {},
   "outputs": [
    {
     "name": "stderr",
     "output_type": "stream",
     "text": [
      "\n",
      "Bad key savefig.frameon in file /home/frfa/anaconda3/lib/python3.7/site-packages/matplotlib/mpl-data/stylelib/_classic_test.mplstyle, line 421 ('savefig.frameon : True')\n",
      "You probably need to get an updated matplotlibrc file from\n",
      "https://github.com/matplotlib/matplotlib/blob/v3.4.3/matplotlibrc.template\n",
      "or from the matplotlib source distribution\n",
      "\n",
      "Bad key verbose.level in file /home/frfa/anaconda3/lib/python3.7/site-packages/matplotlib/mpl-data/stylelib/_classic_test.mplstyle, line 472 ('verbose.level  : silent      # one of silent, helpful, debug, debug-annoying')\n",
      "You probably need to get an updated matplotlibrc file from\n",
      "https://github.com/matplotlib/matplotlib/blob/v3.4.3/matplotlibrc.template\n",
      "or from the matplotlib source distribution\n",
      "\n",
      "Bad key verbose.fileo in file /home/frfa/anaconda3/lib/python3.7/site-packages/matplotlib/mpl-data/stylelib/_classic_test.mplstyle, line 473 ('verbose.fileo  : sys.stdout  # a log filename, sys.stdout or sys.stderr')\n",
      "You probably need to get an updated matplotlibrc file from\n",
      "https://github.com/matplotlib/matplotlib/blob/v3.4.3/matplotlibrc.template\n",
      "or from the matplotlib source distribution\n",
      "In /home/frfa/anaconda3/lib/python3.7/site-packages/matplotlib/mpl-data/stylelib/_classic_test.mplstyle: \n",
      "The text.latex.preview rcparam was deprecated in Matplotlib 3.3 and will be removed two minor releases later.\n",
      "In /home/frfa/anaconda3/lib/python3.7/site-packages/matplotlib/mpl-data/stylelib/_classic_test.mplstyle: \n",
      "The mathtext.fallback_to_cm rcparam was deprecated in Matplotlib 3.3 and will be removed two minor releases later.\n",
      "In /home/frfa/anaconda3/lib/python3.7/site-packages/matplotlib/mpl-data/stylelib/_classic_test.mplstyle: Support for setting the 'mathtext.fallback_to_cm' rcParam is deprecated since 3.3 and will be removed two minor releases later; use 'mathtext.fallback : 'cm' instead.\n",
      "In /home/frfa/anaconda3/lib/python3.7/site-packages/matplotlib/mpl-data/stylelib/_classic_test.mplstyle: \n",
      "The validate_bool_maybe_none function was deprecated in Matplotlib 3.3 and will be removed two minor releases later.\n",
      "In /home/frfa/anaconda3/lib/python3.7/site-packages/matplotlib/mpl-data/stylelib/_classic_test.mplstyle: \n",
      "The savefig.jpeg_quality rcparam was deprecated in Matplotlib 3.3 and will be removed two minor releases later.\n",
      "In /home/frfa/anaconda3/lib/python3.7/site-packages/matplotlib/mpl-data/stylelib/_classic_test.mplstyle: \n",
      "The keymap.all_axes rcparam was deprecated in Matplotlib 3.3 and will be removed two minor releases later.\n",
      "In /home/frfa/anaconda3/lib/python3.7/site-packages/matplotlib/mpl-data/stylelib/_classic_test.mplstyle: \n",
      "The animation.avconv_path rcparam was deprecated in Matplotlib 3.3 and will be removed two minor releases later.\n",
      "In /home/frfa/anaconda3/lib/python3.7/site-packages/matplotlib/mpl-data/stylelib/_classic_test.mplstyle: \n",
      "The animation.avconv_args rcparam was deprecated in Matplotlib 3.3 and will be removed two minor releases later.\n"
     ]
    }
   ],
   "source": [
    "# imports\n",
    "import pandas as pd\n",
    "import numpy as np\n",
    "from scipy.stats import binom, ttest_ind, chi2_contingency, mannwhitneyu\n",
    "import matplotlib.pyplot as plt\n",
    "import seaborn as sns"
   ]
  },
  {
   "cell_type": "code",
   "execution_count": 2,
   "id": "f28dfa06-2c39-44e2-873d-f8a0080bb674",
   "metadata": {},
   "outputs": [],
   "source": [
    "# helpers\n",
    "df_to_list  = lambda df, i: df.iloc[i][df.iloc[i].notnull()].tolist()                   # convert pandas row with nan to list without\n",
    "remove_nan  = lambda df, i: list(map(lambda x: int(float(x)), df_to_list(df, i)))       # the pandas data frame is a parallogram with nan values as padding \n",
    "significant = lambda p_val, alpha: f\"Significant: {'yes' if p_val < alpha else 'no'}\\n\" # finding significant?\n",
    "round_p_val = lambda p_val: f\"p-value:     {round(p_val, 5)}\\n\"                         # round p value\n",
    "out_string  = lambda p, a, t: f\"{significant(p, a)}{round_p_val(p)}Threshold:  {t}\\n\"   # format outstring\n",
    "#bootstrap   = lambda X: np.random.choice(len(X), len(X), replace=True)                  # sample with replacement"
   ]
  },
  {
   "cell_type": "code",
   "execution_count": 3,
   "id": "c74d3733-b534-4a65-bf92-7814ab047da1",
   "metadata": {},
   "outputs": [],
   "source": [
    "days = 7\n",
    "file = 'data.csv'"
   ]
  },
  {
   "cell_type": "code",
   "execution_count": 4,
   "id": "e8326600-6d57-45af-95c5-19603ff92104",
   "metadata": {},
   "outputs": [],
   "source": [
    "df = pd.read_csv(file)              # read constructed data.csv file\n",
    "df = df[df.columns[1:days + 7 + 2]][:150*days]   # limit to treatment and date columns\n",
    "df = df[(df != 'forbidden').all(1)] # remove treatment samples that broke due to lacking upvote rights\n",
    "df = df[df['treatment'] != -1]      # remove treatment samples that were deleted before we could upvote"
   ]
  },
  {
   "cell_type": "code",
   "execution_count": 5,
   "id": "c5b53c07-2dea-45f6-978b-5a0487fea5e4",
   "metadata": {},
   "outputs": [],
   "source": [
    "M = np.array([remove_nan(df, i) for i in range(df.shape[0])]) # convert pandas data frame to numpy array\n",
    "T = (M[M[:, 0] == 1] - 2)[:, 1:]                              # treatment dataframe with our's and author's upvote REMOVED\n",
    "C = (M[M[:, 0] == 0] - 1)[:, 1:]                              # control data frame with author's upvote removed"
   ]
  },
  {
   "cell_type": "code",
   "execution_count": 6,
   "id": "f3fe944f-0dec-463a-8a6d-296857db0569",
   "metadata": {},
   "outputs": [],
   "source": [
    "threshs = [10 ** i for i in range(4)] # our hypothesis looks at the four different orders of magnitude\n",
    "alpha   = 0.05 / (len(threshs))       # significance level with bernferoni correction"
   ]
  },
  {
   "cell_type": "code",
   "execution_count": 7,
   "id": "23eea1ac",
   "metadata": {},
   "outputs": [
    {
     "name": "stdout",
     "output_type": "stream",
     "text": [
      "Significant: no\n",
      "p-value:     0.68123\n",
      "Threshold:  1\n",
      "\n",
      "Significant: no\n",
      "p-value:     0.01313\n",
      "Threshold:  10\n",
      "\n",
      "Significant: no\n",
      "p-value:     0.3885\n",
      "Threshold:  100\n",
      "\n",
      "Significant: no\n",
      "p-value:     0.08622\n",
      "Threshold:  1000\n",
      "\n"
     ]
    }
   ],
   "source": [
    "for thresh in threshs:\n",
    "    n_T = T[:,-1].shape[0]\n",
    "    wins_T =  np.sum(T[:,-1]>= thresh)\n",
    "    loss_T = n_T - wins_T\n",
    "    n_C = C[:,-1].shape[0]\n",
    "    wins_C =  np.sum(C[:,-1]>= thresh)\n",
    "    loss_C = n_C - wins_C\n",
    "    tmp = np.array([[loss_T, wins_T], [loss_C, wins_C]])\n",
    "    p_value = chi2_contingency(tmp)[1]\n",
    "    \n",
    "    print(out_string(p_value, alpha, thresh))"
   ]
  },
  {
   "cell_type": "code",
   "execution_count": 8,
   "id": "73cd1ccb",
   "metadata": {},
   "outputs": [],
   "source": [
    "def non_parametric_bootstrap(x, f, nsim=10000, **kwargs):\n",
    "    \"\"\"\n",
    "    Params:\n",
    "    x  - data (numpy array)\n",
    "    f - test function to calculate\n",
    "    nsim - number of simulations to run\n",
    "    \"\"\"\n",
    "    statistic = np.zeros(nsim)\n",
    "    for i in range(nsim):\n",
    "        # simulate x\n",
    "        indices = np.random.randint(0, x.shape[0], x.shape[0])\n",
    "        X = x[indices]\n",
    "        #X += np.random.normal(0, 0.05, x.shape[0])\n",
    "        statistic[i] = f(X, **kwargs)\n",
    "    \n",
    "    return statistic"
   ]
  },
  {
   "cell_type": "code",
   "execution_count": 9,
   "id": "ec635b6a",
   "metadata": {},
   "outputs": [],
   "source": [
    "meanT = non_parametric_bootstrap(T[:,-1], np.mean)\n",
    "meanC = non_parametric_bootstrap(C[:,-1], np.mean)"
   ]
  },
  {
   "cell_type": "code",
   "execution_count": 22,
   "id": "d605f67b",
   "metadata": {},
   "outputs": [
    {
     "name": "stderr",
     "output_type": "stream",
     "text": [
      "/home/frfa/anaconda3/lib/python3.7/site-packages/seaborn/distributions.py:2619: FutureWarning: `distplot` is a deprecated function and will be removed in a future version. Please adapt your code to use either `displot` (a figure-level function with similar flexibility) or `histplot` (an axes-level function for histograms).\n",
      "  warnings.warn(msg, FutureWarning)\n",
      "/home/frfa/anaconda3/lib/python3.7/site-packages/seaborn/distributions.py:2619: FutureWarning: `distplot` is a deprecated function and will be removed in a future version. Please adapt your code to use either `displot` (a figure-level function with similar flexibility) or `histplot` (an axes-level function for histograms).\n",
      "  warnings.warn(msg, FutureWarning)\n"
     ]
    },
    {
     "data": {
      "text/plain": [
       "<matplotlib.legend.Legend at 0x7f5a73f70d10>"
      ]
     },
     "execution_count": 22,
     "metadata": {},
     "output_type": "execute_result"
    },
    {
     "data": {
      "image/png": "[encoded data removed]",
      "text/plain": [
       "<Figure size 432x288 with 1 Axes>"
      ]
     },
     "metadata": {
      "needs_background": "light"
     },
     "output_type": "display_data"
    }
   ],
   "source": [
    "sns.distplot(meanT, label='Treatment', color=\"#4285f4\")\n",
    "sns.distplot(meanC, label='Control', color=\"#ff0000\")\n",
    "# plt.gca().axvline(logp.mean(), ls='--', color='k', label='mean pval')\n",
    "# plt.gca().axvline(-np.log(0.05)/np.log(10), ls='--', color='r', label='statistical significance')\n",
    "# plt.xlabel('$-\\log_{10}{p}$')\n",
    "#p#lt.ylabel('Probability Density')\n",
    "plt.title('Bootstrapped Mean Values')\n",
    "plt.legend()"
   ]
  },
  {
   "cell_type": "code",
   "execution_count": 11,
   "id": "0bc1272d",
   "metadata": {},
   "outputs": [
    {
     "name": "stdout",
     "output_type": "stream",
     "text": [
      "0.325538229796863\n"
     ]
    }
   ],
   "source": [
    "pvalue = mannwhitneyu(T[:,-1], C[:,-1])[1]\n",
    "print(pvalue)"
   ]
  },
  {
   "cell_type": "code",
   "execution_count": 12,
   "id": "4a703a31",
   "metadata": {},
   "outputs": [],
   "source": [
    "def difference_of_means(x, y):\n",
    "    \"\"\"Calculate the difference in the means of two datasets x and y. Returns a scalar equal to mean(y) - mean(x)\"\"\"\n",
    "    return np.mean(y) - np.mean(x)\n",
    "\n",
    "def test_null(x, y, statistic, iters=1000):\n",
    "    \"\"\"\n",
    "    Given two datasets, test a null hypothesis using a permutation test for a given statistic.\n",
    "    \n",
    "    Params:\n",
    "    x, y -- ndarrays, the data\n",
    "    statistic -- a function of x and y\n",
    "    iters -- number of times to bootstrap\n",
    "    \n",
    "    Ouput:\n",
    "    a numpy array containing the bootstrapped statistic\n",
    "    \"\"\"\n",
    "    def permute(x, y):\n",
    "        \"\"\"Given two datasets, return randomly shuffled versions of them\"\"\"\n",
    "        # concatenate the data\n",
    "        new = np.concatenate([x, y])\n",
    "        # shuffle the data\n",
    "        np.random.shuffle(new)\n",
    "        # return the permuted data sets:\n",
    "        return new[:len(x)], new[len(x):]\n",
    "\n",
    "    # do the bootstrap\n",
    "    return np.array([statistic(*permute(x, y)) for _ in range(iters)])"
   ]
  },
  {
   "cell_type": "code",
   "execution_count": 13,
   "id": "32d66b0d",
   "metadata": {},
   "outputs": [],
   "source": [
    "chue = C[:,-1]\n",
    "thue = T[:,-1]"
   ]
  },
  {
   "cell_type": "code",
   "execution_count": 14,
   "id": "68318a3e",
   "metadata": {},
   "outputs": [],
   "source": [
    "diff = test_null(thue, chue, difference_of_means, iters=10**5)"
   ]
  },
  {
   "cell_type": "code",
   "execution_count": 26,
   "id": "19cd4bea",
   "metadata": {},
   "outputs": [
    {
     "name": "stderr",
     "output_type": "stream",
     "text": [
      "/home/frfa/anaconda3/lib/python3.7/site-packages/seaborn/distributions.py:2619: FutureWarning: `distplot` is a deprecated function and will be removed in a future version. Please adapt your code to use either `displot` (a figure-level function with similar flexibility) or `histplot` (an axes-level function for histograms).\n",
      "  warnings.warn(msg, FutureWarning)\n"
     ]
    },
    {
     "name": "stdout",
     "output_type": "stream",
     "text": [
      "The p-value for these samples is 0.061\n",
      "We cannot reject the null hypothesis that the means are equal between both samples\n"
     ]
    },
    {
     "data": {
      "image/png": "[encoded data removed]",
      "text/plain": [
       "<Figure size 432x288 with 1 Axes>"
      ]
     },
     "metadata": {
      "needs_background": "light"
     },
     "output_type": "display_data"
    }
   ],
   "source": [
    "#chue = mt\n",
    "sns.distplot(diff, color=\"#27ab81\")\n",
    "plt.axvline(chue.mean() - thue.mean(), color='red',label='Observed Difference')\n",
    "plt.title('Bootstrapped Difference in Sample Means')\n",
    "plt.xlabel('Difference in Means')\n",
    "plt.ylabel('Density')\n",
    "plt.legend()\n",
    "\n",
    "pvalue = len(diff[diff < chue.mean() - thue.mean()])/len(diff)\n",
    "\n",
    "print('The p-value for these samples is {0:.2g}'.format(pvalue))\n",
    "if pvalue < 0.05:\n",
    "    print('We can reject the null hypothesis that the means are equal between both samples')\n",
    "else:\n",
    "    print('We cannot reject the null hypothesis that the means are equal between both samples')"
   ]
  },
  {
   "cell_type": "code",
   "execution_count": 16,
   "id": "5318f1d3",
   "metadata": {},
   "outputs": [],
   "source": [
    "def difference_of_variance(x, y):\n",
    "    \"\"\"Calculates the difference in variance between x and y.\"\"\"\n",
    "    \n",
    "    return np.std(y)**2 - np.std(x)**2\n",
    "\n",
    "\n",
    "diff_vars = test_null(thue - thue.mean(), chue - chue.mean(), difference_of_variance, iters=10**5)"
   ]
  },
  {
   "cell_type": "code",
   "execution_count": 17,
   "id": "6bddfa83",
   "metadata": {},
   "outputs": [
    {
     "name": "stderr",
     "output_type": "stream",
     "text": [
      "/home/frfa/anaconda3/lib/python3.7/site-packages/seaborn/distributions.py:2619: FutureWarning: `distplot` is a deprecated function and will be removed in a future version. Please adapt your code to use either `displot` (a figure-level function with similar flexibility) or `histplot` (an axes-level function for histograms).\n",
      "  warnings.warn(msg, FutureWarning)\n"
     ]
    },
    {
     "name": "stdout",
     "output_type": "stream",
     "text": [
      "The p-value for these samples is 0.78\n",
      "We cannot reject the null hypothesis that the means are equal between both samples\n"
     ]
    },
    {
     "data": {
      "image/png": "[encoded data removed]",
      "text/plain": [
       "<Figure size 432x288 with 1 Axes>"
      ]
     },
     "metadata": {
      "needs_background": "light"
     },
     "output_type": "display_data"
    }
   ],
   "source": [
    "sns.distplot(diff_vars)\n",
    "plt.axvline(chue.std()**2 - thue.std()**2, color='red',label='Observed Difference')\n",
    "plt.title('Bootstrapped Difference in Sample Variances')\n",
    "plt.xlabel('Difference in Means')\n",
    "plt.ylabel('Density')\n",
    "plt.legend()\n",
    "\n",
    "pvalue = len(diff_vars[diff_vars > chue.std()**2 - thue.std()**2])/len(diff)\n",
    "\n",
    "print('The p-value for these samples is {0:.2g}'.format(pvalue))\n",
    "if pvalue < 0.05:\n",
    "    print('We can reject the null hypothesis that the means are equal between both samples')\n",
    "else:\n",
    "    print('We cannot reject the null hypothesis that the means are equal between both samples')"
   ]
  },
  {
   "cell_type": "markdown",
   "id": "ade979aa",
   "metadata": {},
   "source": [
    "Note: Part of the code to do statistical tests is taken from: https://wormlabcaltech.github.io/mprsq/stats_tutorial/nonparametric_bootstrapping.html"
   ]
  },
  {
   "cell_type": "code",
   "execution_count": null,
   "id": "a9127876",
   "metadata": {},
   "outputs": [],
   "source": []
  }
 ],
 "metadata": {
  "kernelspec": {
   "display_name": "Python 3 (ipykernel)",
   "language": "python",
   "name": "python3"
  },
  "language_info": {
   "codemirror_mode": {
    "name": "ipython",
    "version": 3
   },
   "file_extension": ".py",
   "mimetype": "text/x-python",
   "name": "python",
   "nbconvert_exporter": "python",
   "pygments_lexer": "ipython3",
   "version": "3.7.4"
  },
  "vscode": {
   "interpreter": {
    "hash": "916dbcbb3f70747c44a77c7bcd40155683ae19c65e1c03b4aa3499c5328201f1"
   }
  }
 },
 "nbformat": 4,
 "nbformat_minor": 5
}

{
 "cells": [
  {
   "cell_type": "code",
   "execution_count": null,
   "id": "b454dd84-3550-4e56-a1a1-3517c2315cb2",
   "metadata": {},
   "outputs": [],
   "source": [
    "# imports\n",
    "import pandas as pd\n",
    "import numpy as np\n",
    "from scipy.stats import binom, ttest_rel"
   ]
  },
  {
   "cell_type": "code",
   "execution_count": null,
   "id": "f28dfa06-2c39-44e2-873d-f8a0080bb674",
   "metadata": {},
   "outputs": [],
   "source": [
    "# helpers\n",
    "df_to_list  = lambda df, i: df.iloc[i][df.iloc[i].notnull()].tolist()                   # convert pandas row with nan to list without\n",
    "remove_nan  = lambda df, i: list(map(lambda x: int(float(x)), df_to_list(df, i)))       # the pandas data frame is a parallogram with nan values as padding \n",
    "significant = lambda p_val, alpha: f\"Significant: {'yes' if p_val < alpha else 'no'}\\n\" # finding significant?\n",
    "round_p_val = lambda p_val: f\"p-value:     {round(p_val, 5)}\\n\"                         # round p value\n",
    "out_string  = lambda p, a, t: f\"{significant(p, a)}{round_p_val(p)}Threshold:  {t}\\n\"   # format outstring\n",
    "bootstrap   = lambda X: np.random.choice(len(X), len(X), replace=True)                  # sample with replacement"
   ]
  },
  {
   "cell_type": "code",
   "execution_count": null,
   "id": "c74d3733-b534-4a65-bf92-7814ab047da1",
   "metadata": {},
   "outputs": [],
   "source": [
    "days = 7\n",
    "file = 'data_more.csv'"
   ]
  },
  {
   "cell_type": "code",
   "execution_count": null,
   "id": "e8326600-6d57-45af-95c5-19603ff92104",
   "metadata": {},
   "outputs": [],
   "source": [
    "df = pd.read_csv(file)              # read constructed data.csv file\n",
    "df = df[df.columns[1:days + 7 + 2]][:150*days]   # limit to treatment and date columns\n",
    "df = df[(df != 'forbidden').all(1)] # remove treatment samples that broke due to lacking upvote rights\n",
    "df = df[df['treatment'] != -1]      # remove treatment samples that were deleted before we could upvote"
   ]
  },
  {
   "cell_type": "code",
   "execution_count": null,
   "id": "c5b53c07-2dea-45f6-978b-5a0487fea5e4",
   "metadata": {},
   "outputs": [],
   "source": [
    "M = np.array([remove_nan(df, i) for i in range(df.shape[0])]) # convert pandas data frame to numpy array\n",
    "T = (M[M[:, 0] == 1] - 2)[:, 1:]                              # treatment dataframe with our's and author's upvote REMOVED\n",
    "C = (M[M[:, 0] == 0] - 1)[:, 1:]                              # control data frame with author's upvote removed"
   ]
  },
  {
   "cell_type": "code",
   "execution_count": null,
   "id": "f3fe944f-0dec-463a-8a6d-296857db0569",
   "metadata": {},
   "outputs": [],
   "source": [
    "threshs = [10 ** i for i in range(4)] # our hypothesis looks at the four different orders of magnitude\n",
    "p_vals  = []                          # store p-values\n",
    "n       = T.shape[0]                  # number of samples\n",
    "alpha   = 0.05 / (len(threshs))       # significance level with bernferoni correction"
   ]
  },
  {
   "cell_type": "code",
   "execution_count": null,
   "id": "1ed15f58-d248-4da6-9ab8-c91035ea74cb",
   "metadata": {},
   "outputs": [],
   "source": [
    "# for i in range(days):                       # for all the days after the first day (RESULT TRUE FOR ALL DAYS)\n",
    "for thresh in threshs:                        # for the four upvote orderes of magnitude in focus\n",
    "    r = np.sum(T[:,-1] > thresh)              # how big a fraction of samples are above the treshhold in Treatment\n",
    "    p = np.sum(C[:,-1] > thresh) / C.shape[0] # what's the probability of being above the threshhold given no treatment?\n",
    "    p_vals.append(1 - binom.cdf(r, n, p))     # calcaulte p-value (whether we are above thresh or not is a binary/binomial question)"
   ]
  },
  {
   "cell_type": "code",
   "execution_count": null,
   "id": "3da74f25-39fc-4a26-a739-6ccef1409838",
   "metadata": {},
   "outputs": [],
   "source": [
    "np.random.seed(42)\n",
    "C_idx = np.random.choice(len(C), min([len(C), len(T)]), replace=False) \n",
    "T_idx = np.random.choice(len(T), min([len(C), len(T)]), replace=False) \n",
    "ttest_ind(T[T_idx, -1], C[C_idx, -1], alternative='greater')"
   ]
  },
  {
   "cell_type": "code",
   "execution_count": null,
   "id": "2bd057d6-063b-4eaa-a966-ca988c7179bc",
   "metadata": {},
   "outputs": [],
   "source": [
    "boot = np.sum(np.array(T_means) < np.array(C_means)) # count often bootstrap treament mean beats control\n",
    "print('T below C:  ', boot / 10_000, end='\\n\\n')     # print that\n",
    "for p_val, thresh in zip(p_vals, threshs):           # loop through threshs\n",
    "    print(out_string(p_val, alpha, thresh))          # print nice text describing result"
   ]
  },
  {
   "cell_type": "code",
   "execution_count": null,
   "id": "82ed7a19-b88c-49c2-ae96-bf663703b1f6",
   "metadata": {},
   "outputs": [],
   "source": []
  }
 ],
 "metadata": {
  "kernelspec": {
   "display_name": "Python 3 (ipykernel)",
   "language": "python",
   "name": "python3"
  },
  "language_info": {
   "codemirror_mode": {
    "name": "ipython",
    "version": 3
   },
   "file_extension": ".py",
   "mimetype": "text/x-python",
   "name": "python",
   "nbconvert_exporter": "python",
   "pygments_lexer": "ipython3",
   "version": "3.8.13"
  }
 },
 "nbformat": 4,
 "nbformat_minor": 5
}
